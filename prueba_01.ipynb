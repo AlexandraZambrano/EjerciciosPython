{
  "nbformat": 4,
  "nbformat_minor": 0,
  "metadata": {
    "colab": {
      "name": "prueba_01.ipynb",
      "provenance": [],
      "authorship_tag": "ABX9TyPA9OnW1ARTT31McsxM7IdH",
      "include_colab_link": true
    },
    "kernelspec": {
      "name": "python3",
      "display_name": "Python 3"
    },
    "language_info": {
      "name": "python"
    }
  },
  "cells": [
    {
      "cell_type": "markdown",
      "metadata": {
        "id": "view-in-github",
        "colab_type": "text"
      },
      "source": [
        "<a href=\"https://colab.research.google.com/github/All3600G/EjerciciosPython/blob/main/prueba_01.ipynb\" target=\"_parent\"><img src=\"https://colab.research.google.com/assets/colab-badge.svg\" alt=\"Open In Colab\"/></a>"
      ]
    },
    {
      "cell_type": "markdown",
      "source": [
        "**1-.Mostrar por pantalla la suma de dos numeros**"
      ],
      "metadata": {
        "id": "r12nno5Hkt6i"
      }
    },
    {
      "cell_type": "code",
      "source": [
        "numero1 = int(input(\"ingrese primer numero: \"))"
      ],
      "metadata": {
        "colab": {
          "base_uri": "https://localhost:8080/"
        },
        "id": "p8put2CQlNWe",
        "outputId": "6cce290c-d20a-41f0-dae0-385c816ca74a"
      },
      "execution_count": 8,
      "outputs": [
        {
          "name": "stdout",
          "output_type": "stream",
          "text": [
            "ingrese primer numero: 5\n"
          ]
        }
      ]
    },
    {
      "cell_type": "code",
      "source": [
        "numero2 = float(input(\"ingrese segundo numero: \"))"
      ],
      "metadata": {
        "colab": {
          "base_uri": "https://localhost:8080/"
        },
        "id": "s-uvyE-9lpo8",
        "outputId": "ca29c05f-5fc4-42ec-d0fe-21a74eacd142"
      },
      "execution_count": 14,
      "outputs": [
        {
          "name": "stdout",
          "output_type": "stream",
          "text": [
            "ingrese segundo numero: 3.14\n"
          ]
        }
      ]
    },
    {
      "cell_type": "code",
      "source": [
        "total = numero1+ numero2\n",
        "total\n",
        "print(total)"
      ],
      "metadata": {
        "colab": {
          "base_uri": "https://localhost:8080/"
        },
        "id": "LCic8837uRlV",
        "outputId": "56dc6ea3-44b6-4a15-9d42-e5ec3b47b477"
      },
      "execution_count": 15,
      "outputs": [
        {
          "output_type": "stream",
          "name": "stdout",
          "text": [
            "8.14\n"
          ]
        }
      ]
    },
    {
      "cell_type": "code",
      "source": [
        "alex = 8\n",
        "print(alex)\n",
        "print(alex)\n",
        "print(alex)"
      ],
      "metadata": {
        "colab": {
          "base_uri": "https://localhost:8080/"
        },
        "id": "AmPIQ-4M2iRo",
        "outputId": "95d03042-df24-4f3a-b518-e1120bf44e6f"
      },
      "execution_count": 17,
      "outputs": [
        {
          "output_type": "stream",
          "name": "stdout",
          "text": [
            "8\n",
            "8\n",
            "8\n"
          ]
        }
      ]
    },
    {
      "cell_type": "code",
      "source": [
        "alex = 2003\n",
        "print(alex)"
      ],
      "metadata": {
        "colab": {
          "base_uri": "https://localhost:8080/"
        },
        "id": "7sVDOAlH257C",
        "outputId": "7fe4c775-3516-4471-c354-bca9d3d24829"
      },
      "execution_count": 19,
      "outputs": [
        {
          "output_type": "stream",
          "name": "stdout",
          "text": [
            "2003\n"
          ]
        }
      ]
    },
    {
      "cell_type": "code",
      "source": [
        "x = 10\n",
        "y = 2\n",
        "z =x + y\n",
        "print(x)\n",
        "print(y)\n",
        "print(z)"
      ],
      "metadata": {
        "colab": {
          "base_uri": "https://localhost:8080/"
        },
        "id": "8jp1zXSP4AaV",
        "outputId": "55df4198-125c-4a12-b85b-fb325e25e72a"
      },
      "execution_count": 20,
      "outputs": [
        {
          "output_type": "stream",
          "name": "stdout",
          "text": [
            "10\n",
            "2\n",
            "12\n"
          ]
        }
      ]
    },
    {
      "cell_type": "code",
      "source": [
        "chantell = 3\n",
        "nuria = 20\n",
        "valentina = chantell + nuria\n",
        "\n",
        "print(chantell)\n",
        "print(nuria)\n",
        "print(valentina)"
      ],
      "metadata": {
        "colab": {
          "base_uri": "https://localhost:8080/"
        },
        "id": "YAMA0vVa40o4",
        "outputId": "a529ece3-4a44-41f3-cf32-2226afc34bc8"
      },
      "execution_count": 22,
      "outputs": [
        {
          "output_type": "stream",
          "name": "stdout",
          "text": [
            "3\n",
            "20\n",
            "23\n"
          ]
        }
      ]
    },
    {
      "cell_type": "code",
      "source": [
        "x = 5\n",
        "print(x)\n",
        "print (type(x))"
      ],
      "metadata": {
        "colab": {
          "base_uri": "https://localhost:8080/"
        },
        "id": "H0LqUnNm6pr4",
        "outputId": "0db7e731-865a-4350-c583-425015155c84"
      },
      "execution_count": 27,
      "outputs": [
        {
          "output_type": "stream",
          "name": "stdout",
          "text": [
            "5\n",
            "<class 'int'>\n"
          ]
        }
      ]
    },
    {
      "cell_type": "code",
      "source": [
        "3=='3'"
      ],
      "metadata": {
        "colab": {
          "base_uri": "https://localhost:8080/"
        },
        "id": "1IzvIobp9rPJ",
        "outputId": "2aab93e2-f921-41fb-9376-884b28f2b41d"
      },
      "execution_count": 28,
      "outputs": [
        {
          "output_type": "execute_result",
          "data": {
            "text/plain": [
              "False"
            ]
          },
          "metadata": {},
          "execution_count": 28
        }
      ]
    },
    {
      "cell_type": "code",
      "source": [
        "x=20\n",
        "y=20\n",
        "if x == y:\n",
        "  print(\"son iguales\")\n",
        "else:\n",
        "  print(\"no son iguales\")"
      ],
      "metadata": {
        "colab": {
          "base_uri": "https://localhost:8080/"
        },
        "id": "m6nm8wie-J0K",
        "outputId": "d73e3c33-d367-495d-a38b-a8ed1ab2ce02"
      },
      "execution_count": 34,
      "outputs": [
        {
          "output_type": "stream",
          "name": "stdout",
          "text": [
            "son iguales\n"
          ]
        }
      ]
    },
    {
      "cell_type": "code",
      "source": [
        "i = 0\n",
        "while i < 10:\n",
        "  print(i)\n",
        "  i += 1"
      ],
      "metadata": {
        "colab": {
          "base_uri": "https://localhost:8080/"
        },
        "id": "-hi_2ma2-60K",
        "outputId": "307d12bc-dcc9-47e4-af53-9b074b6ca01f"
      },
      "execution_count": 35,
      "outputs": [
        {
          "output_type": "stream",
          "name": "stdout",
          "text": [
            "0\n",
            "1\n",
            "2\n",
            "3\n",
            "4\n",
            "5\n",
            "6\n",
            "7\n",
            "8\n",
            "9\n"
          ]
        }
      ]
    },
    {
      "cell_type": "code",
      "source": [
        "y= 100\n",
        "x= 4\n",
        "if x > y:\n",
        "  print(4)\n",
        "else:\n",
        "  print('3 es mayor')"
      ],
      "metadata": {
        "colab": {
          "base_uri": "https://localhost:8080/"
        },
        "id": "XpvV0MS7_U3F",
        "outputId": "1a0854b5-2466-4a0b-faa4-75fc15816e76"
      },
      "execution_count": 42,
      "outputs": [
        {
          "output_type": "stream",
          "name": "stdout",
          "text": [
            "3 es mayor\n"
          ]
        }
      ]
    }
  ]
}
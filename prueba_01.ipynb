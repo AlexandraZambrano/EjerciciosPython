{
  "nbformat": 4,
  "nbformat_minor": 0,
  "metadata": {
    "colab": {
      "name": "prueba_01.ipynb",
      "provenance": [],
      "authorship_tag": "ABX9TyOF0JnJYRznGytBWLjzmmQ2",
      "include_colab_link": true
    },
    "kernelspec": {
      "name": "python3",
      "display_name": "Python 3"
    },
    "language_info": {
      "name": "python"
    }
  },
  "cells": [
    {
      "cell_type": "markdown",
      "metadata": {
        "id": "view-in-github",
        "colab_type": "text"
      },
      "source": [
        "<a href=\"https://colab.research.google.com/github/All3600G/EjerciciosPython/blob/main/prueba_01.ipynb\" target=\"_parent\"><img src=\"https://colab.research.google.com/assets/colab-badge.svg\" alt=\"Open In Colab\"/></a>"
      ]
    },
    {
      "cell_type": "markdown",
      "source": [
        "**1-.Mostrar por pantalla la suma de dos numeros**"
      ],
      "metadata": {
        "id": "r12nno5Hkt6i"
      }
    },
    {
      "cell_type": "code",
      "source": [
        "numero1 = int(input(\"ingrese primer numero: \"))"
      ],
      "metadata": {
        "colab": {
          "base_uri": "https://localhost:8080/"
        },
        "id": "p8put2CQlNWe",
        "outputId": "6cce290c-d20a-41f0-dae0-385c816ca74a"
      },
      "execution_count": null,
      "outputs": [
        {
          "name": "stdout",
          "output_type": "stream",
          "text": [
            "ingrese primer numero: 5\n"
          ]
        }
      ]
    },
    {
      "cell_type": "code",
      "source": [
        "numero2 = float(input(\"ingrese segundo numero: \"))"
      ],
      "metadata": {
        "colab": {
          "base_uri": "https://localhost:8080/"
        },
        "id": "s-uvyE-9lpo8",
        "outputId": "ca29c05f-5fc4-42ec-d0fe-21a74eacd142"
      },
      "execution_count": null,
      "outputs": [
        {
          "name": "stdout",
          "output_type": "stream",
          "text": [
            "ingrese segundo numero: 3.14\n"
          ]
        }
      ]
    },
    {
      "cell_type": "code",
      "source": [
        "total = numero1+ numero2\n",
        "total\n",
        "print(total)"
      ],
      "metadata": {
        "colab": {
          "base_uri": "https://localhost:8080/"
        },
        "id": "LCic8837uRlV",
        "outputId": "56dc6ea3-44b6-4a15-9d42-e5ec3b47b477"
      },
      "execution_count": null,
      "outputs": [
        {
          "output_type": "stream",
          "name": "stdout",
          "text": [
            "8.14\n"
          ]
        }
      ]
    },
    {
      "cell_type": "code",
      "source": [
        "alex = 8\n",
        "print(alex)\n",
        "print(alex)\n",
        "print(alex)"
      ],
      "metadata": {
        "colab": {
          "base_uri": "https://localhost:8080/"
        },
        "id": "AmPIQ-4M2iRo",
        "outputId": "95d03042-df24-4f3a-b518-e1120bf44e6f"
      },
      "execution_count": null,
      "outputs": [
        {
          "output_type": "stream",
          "name": "stdout",
          "text": [
            "8\n",
            "8\n",
            "8\n"
          ]
        }
      ]
    },
    {
      "cell_type": "code",
      "source": [
        "alex = 2003\n",
        "print(alex)"
      ],
      "metadata": {
        "colab": {
          "base_uri": "https://localhost:8080/"
        },
        "id": "7sVDOAlH257C",
        "outputId": "7fe4c775-3516-4471-c354-bca9d3d24829"
      },
      "execution_count": null,
      "outputs": [
        {
          "output_type": "stream",
          "name": "stdout",
          "text": [
            "2003\n"
          ]
        }
      ]
    },
    {
      "cell_type": "code",
      "source": [
        "x = 10\n",
        "y = 2\n",
        "z =x + y\n",
        "print(x)\n",
        "print(y)\n",
        "print(z)"
      ],
      "metadata": {
        "colab": {
          "base_uri": "https://localhost:8080/"
        },
        "id": "8jp1zXSP4AaV",
        "outputId": "55df4198-125c-4a12-b85b-fb325e25e72a"
      },
      "execution_count": null,
      "outputs": [
        {
          "output_type": "stream",
          "name": "stdout",
          "text": [
            "10\n",
            "2\n",
            "12\n"
          ]
        }
      ]
    },
    {
      "cell_type": "code",
      "source": [
        "chantell = 3\n",
        "nuria = 20\n",
        "valentina = chantell + nuria\n",
        "\n",
        "print(chantell)\n",
        "print(nuria)\n",
        "print(valentina)"
      ],
      "metadata": {
        "colab": {
          "base_uri": "https://localhost:8080/"
        },
        "id": "YAMA0vVa40o4",
        "outputId": "a529ece3-4a44-41f3-cf32-2226afc34bc8"
      },
      "execution_count": null,
      "outputs": [
        {
          "output_type": "stream",
          "name": "stdout",
          "text": [
            "3\n",
            "20\n",
            "23\n"
          ]
        }
      ]
    },
    {
      "cell_type": "code",
      "source": [
        "x = 5\n",
        "print(x)\n",
        "print (type(x))"
      ],
      "metadata": {
        "colab": {
          "base_uri": "https://localhost:8080/"
        },
        "id": "H0LqUnNm6pr4",
        "outputId": "0db7e731-865a-4350-c583-425015155c84"
      },
      "execution_count": null,
      "outputs": [
        {
          "output_type": "stream",
          "name": "stdout",
          "text": [
            "5\n",
            "<class 'int'>\n"
          ]
        }
      ]
    },
    {
      "cell_type": "code",
      "source": [
        "3=='3'"
      ],
      "metadata": {
        "colab": {
          "base_uri": "https://localhost:8080/"
        },
        "id": "1IzvIobp9rPJ",
        "outputId": "2aab93e2-f921-41fb-9376-884b28f2b41d"
      },
      "execution_count": null,
      "outputs": [
        {
          "output_type": "execute_result",
          "data": {
            "text/plain": [
              "False"
            ]
          },
          "metadata": {},
          "execution_count": 28
        }
      ]
    },
    {
      "cell_type": "code",
      "source": [
        "x=20\n",
        "y=20\n",
        "if x == y:\n",
        "  print(\"son iguales\")\n",
        "else:\n",
        "  print(\"no son iguales\")"
      ],
      "metadata": {
        "colab": {
          "base_uri": "https://localhost:8080/"
        },
        "id": "m6nm8wie-J0K",
        "outputId": "d73e3c33-d367-495d-a38b-a8ed1ab2ce02"
      },
      "execution_count": null,
      "outputs": [
        {
          "output_type": "stream",
          "name": "stdout",
          "text": [
            "son iguales\n"
          ]
        }
      ]
    },
    {
      "cell_type": "code",
      "source": [
        "i = 0\n",
        "while i < 10:\n",
        "  print(i)\n",
        "  i += 1"
      ],
      "metadata": {
        "colab": {
          "base_uri": "https://localhost:8080/"
        },
        "id": "-hi_2ma2-60K",
        "outputId": "307d12bc-dcc9-47e4-af53-9b074b6ca01f"
      },
      "execution_count": null,
      "outputs": [
        {
          "output_type": "stream",
          "name": "stdout",
          "text": [
            "0\n",
            "1\n",
            "2\n",
            "3\n",
            "4\n",
            "5\n",
            "6\n",
            "7\n",
            "8\n",
            "9\n"
          ]
        }
      ]
    },
    {
      "cell_type": "code",
      "source": [
        "y= 100\n",
        "x= 20\n",
        "if x > y:\n",
        "  print(x)\n",
        "else:\n",
        "  print('y es mayor')"
      ],
      "metadata": {
        "colab": {
          "base_uri": "https://localhost:8080/"
        },
        "id": "XpvV0MS7_U3F",
        "outputId": "2e29dddf-ace4-4962-b7bd-8efa55e6bb58"
      },
      "execution_count": null,
      "outputs": [
        {
          "output_type": "stream",
          "name": "stdout",
          "text": [
            "y es mayor\n"
          ]
        }
      ]
    },
    {
      "cell_type": "markdown",
      "source": [
        "**2-. EJERCICIO IF/ELSE**"
      ],
      "metadata": {
        "id": "tU7Bm1JTbET0"
      }
    },
    {
      "cell_type": "code",
      "source": [
        "condicion = input(\"ingrese verdad o false: \")\n",
        "\n",
        "if condicion == \"verdad\":\n",
        "  print(\"Es verdad\")\n",
        "elif condicion == \"false\":\n",
        "  print(\"Es Falso\")\n",
        "else: \n",
        "  print(\"Not found\")"
      ],
      "metadata": {
        "colab": {
          "base_uri": "https://localhost:8080/"
        },
        "id": "hGyA8KT9bCWv",
        "outputId": "aa4dec50-1436-4d71-c80d-500a0417b8ab"
      },
      "execution_count": null,
      "outputs": [
        {
          "output_type": "stream",
          "name": "stdout",
          "text": [
            "ingrese verdad o false: hello\n",
            "Not found\n"
          ]
        }
      ]
    },
    {
      "cell_type": "code",
      "source": [
        "condicion = input(\"ingrese Verdad o Falso: \")\n",
        "\n",
        "if condicion == \"Verdad\":\n",
        "  print(\"Es Verdad\")\n",
        "else:\n",
        "  print(\"Es Falso\")"
      ],
      "metadata": {
        "colab": {
          "base_uri": "https://localhost:8080/"
        },
        "id": "Y9auka0ehD04",
        "outputId": "555dfca1-08dc-4ad2-ee4b-132f4611ab4c"
      },
      "execution_count": null,
      "outputs": [
        {
          "output_type": "stream",
          "name": "stdout",
          "text": [
            "ingrese Verdad o Falso: Verdad\n",
            "Es Verdad\n"
          ]
        }
      ]
    },
    {
      "cell_type": "code",
      "source": [
        "x = int(input(\"Ingrese un numero entero: \"))\n",
        "\n",
        "if x == 1 or x == 2 or x == 3 or x == 4 or x == 5:\n",
        "  print(\"Acertado!\")\n",
        "elif x == 6 or x == 7 or x == 8 or x == 9 or x == 10:\n",
        "  print(\"Prueba de nuevo :(\")\n",
        "else:\n",
        "  print(\"Sorry we don't do higher\")"
      ],
      "metadata": {
        "colab": {
          "base_uri": "https://localhost:8080/"
        },
        "id": "Xi-clt5RiJpI",
        "outputId": "11ff1cdc-4085-460a-aeaa-d206485274e9"
      },
      "execution_count": null,
      "outputs": [
        {
          "output_type": "stream",
          "name": "stdout",
          "text": [
            "Ingrese un numero entero: 6\n",
            "Prueba de nuevo :(\n"
          ]
        }
      ]
    },
    {
      "cell_type": "code",
      "source": [
        "x = int(input(\"ingrese 1 o 2: \"))\n",
        "\n",
        "if x == 1 or x == 2:\n",
        "  print(\"Good job!\")\n",
        "else:\n",
        "  print(\"not found\")"
      ],
      "metadata": {
        "colab": {
          "base_uri": "https://localhost:8080/"
        },
        "id": "CcDvQ0EqlQ9t",
        "outputId": "e7475f21-3054-473b-b8ec-7e92716fb52d"
      },
      "execution_count": null,
      "outputs": [
        {
          "output_type": "stream",
          "name": "stdout",
          "text": [
            "ingrese 1 o 2: 3\n",
            "not found\n"
          ]
        }
      ]
    },
    {
      "cell_type": "code",
      "source": [
        "i = 2\n",
        "while i < 10:\n",
        "  print(i)\n",
        "  i *= 2"
      ],
      "metadata": {
        "colab": {
          "base_uri": "https://localhost:8080/"
        },
        "id": "S6ccPFgIoiyv",
        "outputId": "40e8d273-b52e-48d2-f9f1-039a9a694d37"
      },
      "execution_count": null,
      "outputs": [
        {
          "output_type": "stream",
          "name": "stdout",
          "text": [
            "2\n",
            "4\n",
            "8\n"
          ]
        }
      ]
    },
    {
      "cell_type": "code",
      "source": [
        "numero = 2\n",
        "while numero < 15:\n",
        "  numero = numero * 2\n",
        "  print(numero)"
      ],
      "metadata": {
        "colab": {
          "base_uri": "https://localhost:8080/"
        },
        "id": "cbZcmCmfrhvX",
        "outputId": "c7101652-eb85-49c0-9a1a-91befeaca4a4"
      },
      "execution_count": null,
      "outputs": [
        {
          "output_type": "stream",
          "name": "stdout",
          "text": [
            "4\n",
            "8\n",
            "16\n"
          ]
        }
      ]
    },
    {
      "cell_type": "code",
      "source": [
        "numero = int(input(\"ingrese numero: \"))\n",
        "while numero < 15:\n",
        "  numero = numero * 2\n",
        "  print(numero)"
      ],
      "metadata": {
        "colab": {
          "base_uri": "https://localhost:8080/"
        },
        "id": "GUnFU_crpM3L",
        "outputId": "784d1c96-1102-4557-ac8a-36c12b3e543e"
      },
      "execution_count": null,
      "outputs": [
        {
          "output_type": "stream",
          "name": "stdout",
          "text": [
            "ingrese numero: 4\n",
            "8\n",
            "16\n"
          ]
        }
      ]
    },
    {
      "cell_type": "code",
      "source": [
        "calificacion = int(input(\"Ingrese calificacion: \"))\n",
        "\n",
        "if calificacion >= 9 and calificacion <= 10:\n",
        "  print(\"A\")\n",
        "elif calificacion >= 8 and calificacion < 9:\n",
        "  print(\"B\")\n",
        "elif calificacion >=7 and calificacion < 8:\n",
        "  print(\"C\")\n",
        "elif calificacion >= 6 and calificacion < 7:\n",
        "  print(\"D\")\n",
        "elif calificacion >= 0 and calificacion <=5:\n",
        "  print(\"F\")\n",
        "\n",
        "else:\n",
        "  print(\"Valor incorrecto\")"
      ],
      "metadata": {
        "id": "eFr98oa9s_eC",
        "colab": {
          "base_uri": "https://localhost:8080/"
        },
        "outputId": "f8aee68b-caba-41ba-8206-4e88a392fa15"
      },
      "execution_count": 143,
      "outputs": [
        {
          "output_type": "stream",
          "name": "stdout",
          "text": [
            "Ingrese calificacion: 5\n",
            "F\n"
          ]
        }
      ]
    },
    {
      "cell_type": "code",
      "source": [
        "x = 0\n",
        "while x <=5:\n",
        "  print(x)\n",
        "  x = x + 1"
      ],
      "metadata": {
        "id": "khvKO1sF-rBM",
        "colab": {
          "base_uri": "https://localhost:8080/"
        },
        "outputId": "9f5a101a-8272-4189-f6a9-52ffb576d472"
      },
      "execution_count": 135,
      "outputs": [
        {
          "output_type": "stream",
          "name": "stdout",
          "text": [
            "0\n",
            "1\n",
            "2\n",
            "3\n",
            "4\n",
            "5\n"
          ]
        }
      ]
    },
    {
      "cell_type": "code",
      "source": [
        "mivariable = \"hola\"\n",
        "for pepito in mivariable:\n",
        "  print(pepito)\n",
        "else:\n",
        "  print(\"fin del ciclo for\")"
      ],
      "metadata": {
        "id": "HfAjjK8wKmZQ",
        "colab": {
          "base_uri": "https://localhost:8080/"
        },
        "outputId": "cbe89a0e-4ea5-481e-9cc8-9f7664a146cb"
      },
      "execution_count": 134,
      "outputs": [
        {
          "output_type": "stream",
          "name": "stdout",
          "text": [
            "h\n",
            "o\n",
            "l\n",
            "a\n",
            "fin del ciclo for\n"
          ]
        }
      ]
    },
    {
      "cell_type": "code",
      "source": [
        "for i in \"holanda\":\n",
        "  if i == \"a\":\n",
        "    print(f\"letra encontrada: {i}\")\n",
        "    break\n",
        "else:\n",
        "  print(\"Fin del ciclo\")"
      ],
      "metadata": {
        "colab": {
          "base_uri": "https://localhost:8080/"
        },
        "id": "3IJRqLQELuQH",
        "outputId": "bde23d5f-9f74-4585-92f7-abc9a1f1de09"
      },
      "execution_count": 150,
      "outputs": [
        {
          "output_type": "stream",
          "name": "stdout",
          "text": [
            "letra encontrada: a\n"
          ]
        }
      ]
    },
    {
      "cell_type": "code",
      "source": [
        "for i in range(6):\n",
        "  if i % 2 != 0 :\n",
        "    continue\n",
        "  print(f\"letra encontrada: {i}\")"
      ],
      "metadata": {
        "colab": {
          "base_uri": "https://localhost:8080/"
        },
        "id": "lwfLS-AdOPkn",
        "outputId": "df5e8237-82e2-4da9-af0c-7f41343df5f5"
      },
      "execution_count": 162,
      "outputs": [
        {
          "output_type": "stream",
          "name": "stdout",
          "text": [
            "letra encontrada: 0\n",
            "letra encontrada: 2\n",
            "letra encontrada: 4\n"
          ]
        }
      ]
    }
  ]
}
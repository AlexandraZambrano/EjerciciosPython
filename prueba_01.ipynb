{
  "nbformat": 4,
  "nbformat_minor": 0,
  "metadata": {
    "colab": {
      "name": "prueba_01.ipynb",
      "provenance": [],
      "authorship_tag": "ABX9TyPq8ut2Gt0gDr2MyVWWsz9d",
      "include_colab_link": true
    },
    "kernelspec": {
      "name": "python3",
      "display_name": "Python 3"
    },
    "language_info": {
      "name": "python"
    }
  },
  "cells": [
    {
      "cell_type": "markdown",
      "metadata": {
        "id": "view-in-github",
        "colab_type": "text"
      },
      "source": [
        "<a href=\"https://colab.research.google.com/github/All3600G/EjerciciosPython/blob/main/prueba_01.ipynb\" target=\"_parent\"><img src=\"https://colab.research.google.com/assets/colab-badge.svg\" alt=\"Open In Colab\"/></a>"
      ]
    },
    {
      "cell_type": "markdown",
      "source": [
        "**1-.Mostrar por pantalla la suma de dos numeros**"
      ],
      "metadata": {
        "id": "r12nno5Hkt6i"
      }
    },
    {
      "cell_type": "code",
      "source": [
        "numero1 = int(input(\"ingrese primer numero: \"))"
      ],
      "metadata": {
        "colab": {
          "base_uri": "https://localhost:8080/"
        },
        "id": "p8put2CQlNWe",
        "outputId": "6cce290c-d20a-41f0-dae0-385c816ca74a"
      },
      "execution_count": 8,
      "outputs": [
        {
          "name": "stdout",
          "output_type": "stream",
          "text": [
            "ingrese primer numero: 5\n"
          ]
        }
      ]
    },
    {
      "cell_type": "code",
      "source": [
        "numero2 = float(input(\"ingrese segundo numero: \"))"
      ],
      "metadata": {
        "colab": {
          "base_uri": "https://localhost:8080/"
        },
        "id": "s-uvyE-9lpo8",
        "outputId": "ca29c05f-5fc4-42ec-d0fe-21a74eacd142"
      },
      "execution_count": 14,
      "outputs": [
        {
          "name": "stdout",
          "output_type": "stream",
          "text": [
            "ingrese segundo numero: 3.14\n"
          ]
        }
      ]
    },
    {
      "cell_type": "code",
      "source": [
        "total = numero1+ numero2\n",
        "total\n",
        "print(total)"
      ],
      "metadata": {
        "colab": {
          "base_uri": "https://localhost:8080/"
        },
        "id": "LCic8837uRlV",
        "outputId": "56dc6ea3-44b6-4a15-9d42-e5ec3b47b477"
      },
      "execution_count": 15,
      "outputs": [
        {
          "output_type": "stream",
          "name": "stdout",
          "text": [
            "8.14\n"
          ]
        }
      ]
    }
  ]
}